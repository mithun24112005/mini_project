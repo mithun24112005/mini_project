{
 "cells": [
  {
   "cell_type": "markdown",
   "metadata": {},
   "source": [
    "## 🧠 ALU Fault Detection using Machine Learning\n",
    "\n",
    "This notebook trains three different models to classify ALU operations as 'OK' (0) or 'FAULT' (1) based on the input operands, opcode, and the resulting output."
   ]
  },
  {
   "cell_type": "markdown",
   "metadata": {},
   "source": [
    "### Step 1: Import Libraries and Load Data"
   ]
  },
  {
   "cell_type": "code",
   "execution_count": 1,
   "metadata": {},
   "outputs": [
    {
     "name": "stdout",
     "output_type": "stream",
     "text": [
      "Dataset loaded successfully!\n"
     ]
    },
    {
     "data": {
      "text/html": [
       "<div>\n",
       "<style scoped>\n",
       "    .dataframe tbody tr th:only-of-type {\n",
       "        vertical-align: middle;\n",
       "    }\n",
       "\n",
       "    .dataframe tbody tr th {\n",
       "        vertical-align: top;\n",
       "    }\n",
       "\n",
       "    .dataframe thead th {\n",
       "        text-align: right;\n",
       "    }\n",
       "</style>\n",
       "<table border=\"1\" class=\"dataframe\">\n",
       "  <thead>\n",
       "    <tr style=\"text-align: right;\">\n",
       "      <th></th>\n",
       "      <th>a</th>\n",
       "      <th>b</th>\n",
       "      <th>opcode</th>\n",
       "      <th>faulty_result</th>\n",
       "      <th>label</th>\n",
       "    </tr>\n",
       "  </thead>\n",
       "  <tbody>\n",
       "    <tr>\n",
       "      <th>0</th>\n",
       "      <td>303379748</td>\n",
       "      <td>3230228097</td>\n",
       "      <td>2</td>\n",
       "      <td>70657</td>\n",
       "      <td>1</td>\n",
       "    </tr>\n",
       "    <tr>\n",
       "      <th>1</th>\n",
       "      <td>2223298057</td>\n",
       "      <td>2985317987</td>\n",
       "      <td>0</td>\n",
       "      <td>913648748</td>\n",
       "      <td>0</td>\n",
       "    </tr>\n",
       "    <tr>\n",
       "      <th>2</th>\n",
       "      <td>112818957</td>\n",
       "      <td>1189058957</td>\n",
       "      <td>3</td>\n",
       "      <td>1191181199</td>\n",
       "      <td>1</td>\n",
       "    </tr>\n",
       "    <tr>\n",
       "      <th>3</th>\n",
       "      <td>2999092325</td>\n",
       "      <td>2302104082</td>\n",
       "      <td>2</td>\n",
       "      <td>2147614720</td>\n",
       "      <td>0</td>\n",
       "    </tr>\n",
       "    <tr>\n",
       "      <th>4</th>\n",
       "      <td>15983361</td>\n",
       "      <td>114806029</td>\n",
       "      <td>3</td>\n",
       "      <td>116911885</td>\n",
       "      <td>0</td>\n",
       "    </tr>\n",
       "  </tbody>\n",
       "</table>\n",
       "</div>"
      ],
      "text/plain": [
       "            a           b  opcode  faulty_result  label\n",
       "0   303379748  3230228097       2          70657      1\n",
       "1  2223298057  2985317987       0      913648748      0\n",
       "2   112818957  1189058957       3     1191181199      1\n",
       "3  2999092325  2302104082       2     2147614720      0\n",
       "4    15983361   114806029       3      116911885      0"
      ]
     },
     "execution_count": 1,
     "metadata": {},
     "output_type": "execute_result"
    }
   ],
   "source": [
    "import pandas as pd\n",
    "import numpy as np\n",
    "import seaborn as sns\n",
    "import matplotlib.pyplot as plt\n",
    "\n",
    "# Scikit-learn for preprocessing and traditional models\n",
    "from sklearn.model_selection import train_test_split\n",
    "from sklearn.preprocessing import StandardScaler\n",
    "from sklearn.svm import SVC\n",
    "from sklearn.ensemble import RandomForestClassifier\n",
    "from sklearn.metrics import accuracy_score, classification_report, confusion_matrix\n",
    "\n",
    "# TensorFlow/Keras for the Neural Network\n",
    "import tensorflow \n",
    "from tensorflow.keras.models import Sequential\n",
    "from tensorflow.keras.layers import Dense, Dropout\n",
    "\n",
    "# Load the dataset\n",
    "# Make sure your data file is named 'dataset.csv' and is in the same directory\n",
    "df = pd.read_csv('dataset.csv')\n",
    "# try:\n",
    "# except FileNotFoundError:\n",
    "#     print(\"Error: 'dataset.csv' not found. Please ensure your data file is in the same directory.\")\n",
    "#     # Create a dummy dataframe for the rest of the script to run without errors\n",
    "#     df = pd.DataFrame({\n",
    "#         'a': np.random.randint(0, 1e9, 100),\n",
    "#         'b': np.random.randint(0, 1e9, 100),\n",
    "#         'opcode': np.random.randint(0, 5, 100),\n",
    "#         'faulty_result': np.random.randint(0, 1e9, 100),\n",
    "#         'label': np.random.randint(0, 2, 100)\n",
    "#     })\n",
    "\n",
    "print(\"Dataset loaded successfully!\")\n",
    "df.head()"
   ]
  },
  {
   "cell_type": "code",
   "execution_count": 2,
   "metadata": {},
   "outputs": [
    {
     "name": "stdout",
     "output_type": "stream",
     "text": [
      "Calculating golden results for feature engineering...\n",
      "New 'difference' feature created.\n"
     ]
    },
    {
     "data": {
      "text/html": [
       "<div>\n",
       "<style scoped>\n",
       "    .dataframe tbody tr th:only-of-type {\n",
       "        vertical-align: middle;\n",
       "    }\n",
       "\n",
       "    .dataframe tbody tr th {\n",
       "        vertical-align: top;\n",
       "    }\n",
       "\n",
       "    .dataframe thead th {\n",
       "        text-align: right;\n",
       "    }\n",
       "</style>\n",
       "<table border=\"1\" class=\"dataframe\">\n",
       "  <thead>\n",
       "    <tr style=\"text-align: right;\">\n",
       "      <th></th>\n",
       "      <th>a</th>\n",
       "      <th>b</th>\n",
       "      <th>opcode</th>\n",
       "      <th>faulty_result</th>\n",
       "      <th>label</th>\n",
       "      <th>golden_result</th>\n",
       "      <th>difference</th>\n",
       "    </tr>\n",
       "  </thead>\n",
       "  <tbody>\n",
       "    <tr>\n",
       "      <th>0</th>\n",
       "      <td>303379748</td>\n",
       "      <td>3230228097</td>\n",
       "      <td>2</td>\n",
       "      <td>70657</td>\n",
       "      <td>1</td>\n",
       "      <td>70656</td>\n",
       "      <td>1</td>\n",
       "    </tr>\n",
       "    <tr>\n",
       "      <th>1</th>\n",
       "      <td>2223298057</td>\n",
       "      <td>2985317987</td>\n",
       "      <td>0</td>\n",
       "      <td>913648748</td>\n",
       "      <td>0</td>\n",
       "      <td>5208616044</td>\n",
       "      <td>4294967296</td>\n",
       "    </tr>\n",
       "    <tr>\n",
       "      <th>2</th>\n",
       "      <td>112818957</td>\n",
       "      <td>1189058957</td>\n",
       "      <td>3</td>\n",
       "      <td>1191181199</td>\n",
       "      <td>1</td>\n",
       "      <td>1191181197</td>\n",
       "      <td>2</td>\n",
       "    </tr>\n",
       "    <tr>\n",
       "      <th>3</th>\n",
       "      <td>2999092325</td>\n",
       "      <td>2302104082</td>\n",
       "      <td>2</td>\n",
       "      <td>2147614720</td>\n",
       "      <td>0</td>\n",
       "      <td>2147614720</td>\n",
       "      <td>0</td>\n",
       "    </tr>\n",
       "    <tr>\n",
       "      <th>4</th>\n",
       "      <td>15983361</td>\n",
       "      <td>114806029</td>\n",
       "      <td>3</td>\n",
       "      <td>116911885</td>\n",
       "      <td>0</td>\n",
       "      <td>116911885</td>\n",
       "      <td>0</td>\n",
       "    </tr>\n",
       "  </tbody>\n",
       "</table>\n",
       "</div>"
      ],
      "text/plain": [
       "            a           b  opcode  faulty_result  label  golden_result  \\\n",
       "0   303379748  3230228097       2          70657      1          70656   \n",
       "1  2223298057  2985317987       0      913648748      0     5208616044   \n",
       "2   112818957  1189058957       3     1191181199      1     1191181197   \n",
       "3  2999092325  2302104082       2     2147614720      0     2147614720   \n",
       "4    15983361   114806029       3      116911885      0      116911885   \n",
       "\n",
       "   difference  \n",
       "0           1  \n",
       "1  4294967296  \n",
       "2           2  \n",
       "3           0  \n",
       "4           0  "
      ]
     },
     "execution_count": 2,
     "metadata": {},
     "output_type": "execute_result"
    }
   ],
   "source": [
    "# --- START: New Feature Engineering Code ---\n",
    "\n",
    "# 1. Create a function to calculate the correct ALU result\n",
    "def get_golden_result(row):\n",
    "    a = row['a']\n",
    "    b = row['b']\n",
    "    opcode = row['opcode']\n",
    "    \n",
    "    if opcode == 0: # ADD\n",
    "        return a + b\n",
    "    elif opcode == 1: # SUB\n",
    "        return a - b\n",
    "    elif opcode == 2: # AND\n",
    "        return a & b\n",
    "    elif opcode == 3: # OR\n",
    "        return a | b\n",
    "    elif opcode == 4: # XOR\n",
    "        return a ^ b\n",
    "    return 0 # Default case\n",
    "\n",
    "# 2. Apply this function to create the 'golden_result' column\n",
    "print(\"Calculating golden results for feature engineering...\")\n",
    "df['golden_result'] = df.apply(get_golden_result, axis=1)\n",
    "\n",
    "# 3. Create the powerful 'difference' feature\n",
    "# This is the absolute difference between the expected result and the actual result\n",
    "df['difference'] = (df['golden_result'] - df['faulty_result']).abs()\n",
    "\n",
    "print(\"New 'difference' feature created.\")\n",
    "df.head()\n",
    "# --- END: New Feature Engineering Code ---"
   ]
  },
  {
   "cell_type": "markdown",
   "metadata": {},
   "source": [
    "### Step 2: Data Preprocessing\n",
    "\n",
    "1.  **Separate Features (X) and Label (y)**: Isolate the input columns from the target column.\n",
    "2.  **Train-Test Split**: Divide the data into training (80%) and testing (20%) sets.\n",
    "3.  **Feature Scaling**: Normalize the feature values to have a mean of 0 and a standard deviation of 1. This is crucial for SVM and Neural Networks."
   ]
  },
  {
   "cell_type": "code",
   "execution_count": 3,
   "metadata": {},
   "outputs": [
    {
     "name": "stdout",
     "output_type": "stream",
     "text": [
      "Training set shape: (23966, 4)\n",
      "Test set shape: (5992, 4)\n",
      "\n",
      "Features scaled successfully.\n"
     ]
    }
   ],
   "source": [
    "# 1. Separate Features and Label\n",
    "# New, corrected line\n",
    "X = df[['a', 'b', 'opcode', 'difference']]\n",
    "y = df['label']\n",
    "\n",
    "# 2. Split the data into training and testing sets\n",
    "X_train, X_test, y_train, y_test = train_test_split(X, y, test_size=0.2, random_state=42, stratify=y)\n",
    "\n",
    "print(f\"Training set shape: {X_train.shape}\")\n",
    "print(f\"Test set shape: {X_test.shape}\")\n",
    "\n",
    "# 3. Scale the features\n",
    "scaler = StandardScaler()\n",
    "X_train_scaled = scaler.fit_transform(X_train)\n",
    "X_test_scaled = scaler.transform(X_test)\n",
    "\n",
    "print(\"\\nFeatures scaled successfully.\")"
   ]
  },
  {
   "cell_type": "markdown",
   "metadata": {},
   "source": [
    "---"
   ]
  },
  {
   "cell_type": "markdown",
   "metadata": {},
   "source": [
    "### Step 3.1: Train and Evaluate - Support Vector Machine (SVM)"
   ]
  },
  {
   "cell_type": "code",
   "execution_count": 4,
   "metadata": {},
   "outputs": [
    {
     "name": "stdout",
     "output_type": "stream",
     "text": [
      "--- Training Support Vector Machine ---\n",
      "SVM Accuracy: 0.5801068090787717\n",
      "\n",
      "SVM Classification Report:\n",
      "               precision    recall  f1-score   support\n",
      "\n",
      "           0       0.55      0.90      0.69      3052\n",
      "           1       0.71      0.24      0.36      2940\n",
      "\n",
      "    accuracy                           0.58      5992\n",
      "   macro avg       0.63      0.57      0.53      5992\n",
      "weighted avg       0.63      0.58      0.53      5992\n",
      "\n"
     ]
    },
    {
     "data": {
      "image/png": "[encoded data removed]",
      "text/plain": [
       "<Figure size 640x480 with 2 Axes>"
      ]
     },
     "metadata": {},
     "output_type": "display_data"
    }
   ],
   "source": [
    "print(\"--- Training Support Vector Machine ---\")\n",
    "svm_model = SVC(kernel='rbf', random_state=42)\n",
    "svm_model.fit(X_train_scaled, y_train)\n",
    "\n",
    "# Make predictions\n",
    "y_pred_svm = svm_model.predict(X_test_scaled)\n",
    "\n",
    "# Evaluate the model\n",
    "print(\"SVM Accuracy:\", accuracy_score(y_test, y_pred_svm))\n",
    "print(\"\\nSVM Classification Report:\\n\", classification_report(y_test, y_pred_svm))\n",
    "\n",
    "# Plot confusion matrix\n",
    "cm_svm = confusion_matrix(y_test, y_pred_svm)\n",
    "sns.heatmap(cm_svm, annot=True, fmt='d', cmap='Blues')\n",
    "plt.title('SVM Confusion Matrix')\n",
    "plt.xlabel('Predicted')\n",
    "plt.ylabel('Actual')\n",
    "plt.show()"
   ]
  },
  {
   "cell_type": "markdown",
   "metadata": {},
   "source": [
    "---"
   ]
  },
  {
   "cell_type": "markdown",
   "metadata": {},
   "source": [
    "### Step 3.2: Train and Evaluate - Random Forest"
   ]
  },
  {
   "cell_type": "code",
   "execution_count": 12,
   "metadata": {},
   "outputs": [
    {
     "name": "stdout",
     "output_type": "stream",
     "text": [
      "--- Training Final Random Forest Model ---\n",
      "Final Random Forest Accuracy: 1.0\n",
      "\\nFinal Random Forest Classification Report:\\n               precision    recall  f1-score   support\n",
      "\n",
      "           0       1.00      1.00      1.00      3052\n",
      "           1       1.00      1.00      1.00      2940\n",
      "\n",
      "    accuracy                           1.00      5992\n",
      "   macro avg       1.00      1.00      1.00      5992\n",
      "weighted avg       1.00      1.00      1.00      5992\n",
      "\n"
     ]
    }
   ],
   "source": [
    "# In your \"Train and Evaluate - Random Forest\" cell\n",
    "\n",
    "print(\"--- Training Final Random Forest Model ---\")\n",
    "\n",
    "# REMOVED max_depth=10 to allow the model to use the new feature fully.\n",
    "rf_model = RandomForestClassifier(n_estimators=100, random_state=42)\n",
    "rf_model.fit(X_train_scaled, y_train)\n",
    "\n",
    "# Make predictions\n",
    "y_pred_rf = rf_model.predict(X_test_scaled)\n",
    "\n",
    "# Evaluate the final model\n",
    "print(\"Final Random Forest Accuracy:\", accuracy_score(y_test, y_pred_rf))\n",
    "print(\"\\\\nFinal Random Forest Classification Report:\\\\n\", classification_report(y_test, y_pred_rf))"
   ]
  },
  {
   "cell_type": "markdown",
   "metadata": {},
   "source": [
    "---"
   ]
  },
  {
   "cell_type": "markdown",
   "metadata": {},
   "source": [
    "### Step 3.3: Train and Evaluate - Neural Network (NN)"
   ]
  },
  {
   "cell_type": "code",
   "execution_count": 6,
   "metadata": {},
   "outputs": [
    {
     "name": "stdout",
     "output_type": "stream",
     "text": [
      "--- Building and Training Neural Network ---\n"
     ]
    },
    {
     "name": "stderr",
     "output_type": "stream",
     "text": [
      "d:\\mini_project\\venv\\Lib\\site-packages\\keras\\src\\layers\\core\\dense.py:92: UserWarning: Do not pass an `input_shape`/`input_dim` argument to a layer. When using Sequential models, prefer using an `Input(shape)` object as the first layer in the model instead.\n",
      "  super().__init__(activity_regularizer=activity_regularizer, **kwargs)\n"
     ]
    },
    {
     "data": {
      "text/html": [
       "<pre style=\"white-space:pre;overflow-x:auto;line-height:normal;font-family:Menlo,'DejaVu Sans Mono',consolas,'Courier New',monospace\"><span style=\"font-weight: bold\">Model: \"sequential\"</span>\n",
       "</pre>\n"
      ],
      "text/plain": [
       "\u001b[1mModel: \"sequential\"\u001b[0m\n"
      ]
     },
     "metadata": {},
     "output_type": "display_data"
    },
    {
     "data": {
      "text/html": [
       "<pre style=\"white-space:pre;overflow-x:auto;line-height:normal;font-family:Menlo,'DejaVu Sans Mono',consolas,'Courier New',monospace\">┏━━━━━━━━━━━━━━━━━━━━━━━━━━━━━━━━━┳━━━━━━━━━━━━━━━━━━━━━━━━┳━━━━━━━━━━━━━━━┓\n",
       "┃<span style=\"font-weight: bold\"> Layer (type)                    </span>┃<span style=\"font-weight: bold\"> Output Shape           </span>┃<span style=\"font-weight: bold\">       Param # </span>┃\n",
       "┡━━━━━━━━━━━━━━━━━━━━━━━━━━━━━━━━━╇━━━━━━━━━━━━━━━━━━━━━━━━╇━━━━━━━━━━━━━━━┩\n",
       "│ dense (<span style=\"color: #0087ff; text-decoration-color: #0087ff\">Dense</span>)                   │ (<span style=\"color: #00d7ff; text-decoration-color: #00d7ff\">None</span>, <span style=\"color: #00af00; text-decoration-color: #00af00\">32</span>)             │           <span style=\"color: #00af00; text-decoration-color: #00af00\">160</span> │\n",
       "├─────────────────────────────────┼────────────────────────┼───────────────┤\n",
       "│ dropout (<span style=\"color: #0087ff; text-decoration-color: #0087ff\">Dropout</span>)               │ (<span style=\"color: #00d7ff; text-decoration-color: #00d7ff\">None</span>, <span style=\"color: #00af00; text-decoration-color: #00af00\">32</span>)             │             <span style=\"color: #00af00; text-decoration-color: #00af00\">0</span> │\n",
       "├─────────────────────────────────┼────────────────────────┼───────────────┤\n",
       "│ dense_1 (<span style=\"color: #0087ff; text-decoration-color: #0087ff\">Dense</span>)                 │ (<span style=\"color: #00d7ff; text-decoration-color: #00d7ff\">None</span>, <span style=\"color: #00af00; text-decoration-color: #00af00\">16</span>)             │           <span style=\"color: #00af00; text-decoration-color: #00af00\">528</span> │\n",
       "├─────────────────────────────────┼────────────────────────┼───────────────┤\n",
       "│ dropout_1 (<span style=\"color: #0087ff; text-decoration-color: #0087ff\">Dropout</span>)             │ (<span style=\"color: #00d7ff; text-decoration-color: #00d7ff\">None</span>, <span style=\"color: #00af00; text-decoration-color: #00af00\">16</span>)             │             <span style=\"color: #00af00; text-decoration-color: #00af00\">0</span> │\n",
       "├─────────────────────────────────┼────────────────────────┼───────────────┤\n",
       "│ dense_2 (<span style=\"color: #0087ff; text-decoration-color: #0087ff\">Dense</span>)                 │ (<span style=\"color: #00d7ff; text-decoration-color: #00d7ff\">None</span>, <span style=\"color: #00af00; text-decoration-color: #00af00\">1</span>)              │            <span style=\"color: #00af00; text-decoration-color: #00af00\">17</span> │\n",
       "└─────────────────────────────────┴────────────────────────┴───────────────┘\n",
       "</pre>\n"
      ],
      "text/plain": [
       "┏━━━━━━━━━━━━━━━━━━━━━━━━━━━━━━━━━┳━━━━━━━━━━━━━━━━━━━━━━━━┳━━━━━━━━━━━━━━━┓\n",
       "┃\u001b[1m \u001b[0m\u001b[1mLayer (type)                   \u001b[0m\u001b[1m \u001b[0m┃\u001b[1m \u001b[0m\u001b[1mOutput Shape          \u001b[0m\u001b[1m \u001b[0m┃\u001b[1m \u001b[0m\u001b[1m      Param #\u001b[0m\u001b[1m \u001b[0m┃\n",
       "┡━━━━━━━━━━━━━━━━━━━━━━━━━━━━━━━━━╇━━━━━━━━━━━━━━━━━━━━━━━━╇━━━━━━━━━━━━━━━┩\n",
       "│ dense (\u001b[38;5;33mDense\u001b[0m)                   │ (\u001b[38;5;45mNone\u001b[0m, \u001b[38;5;34m32\u001b[0m)             │           \u001b[38;5;34m160\u001b[0m │\n",
       "├─────────────────────────────────┼────────────────────────┼───────────────┤\n",
       "│ dropout (\u001b[38;5;33mDropout\u001b[0m)               │ (\u001b[38;5;45mNone\u001b[0m, \u001b[38;5;34m32\u001b[0m)             │             \u001b[38;5;34m0\u001b[0m │\n",
       "├─────────────────────────────────┼────────────────────────┼───────────────┤\n",
       "│ dense_1 (\u001b[38;5;33mDense\u001b[0m)                 │ (\u001b[38;5;45mNone\u001b[0m, \u001b[38;5;34m16\u001b[0m)             │           \u001b[38;5;34m528\u001b[0m │\n",
       "├─────────────────────────────────┼────────────────────────┼───────────────┤\n",
       "│ dropout_1 (\u001b[38;5;33mDropout\u001b[0m)             │ (\u001b[38;5;45mNone\u001b[0m, \u001b[38;5;34m16\u001b[0m)             │             \u001b[38;5;34m0\u001b[0m │\n",
       "├─────────────────────────────────┼────────────────────────┼───────────────┤\n",
       "│ dense_2 (\u001b[38;5;33mDense\u001b[0m)                 │ (\u001b[38;5;45mNone\u001b[0m, \u001b[38;5;34m1\u001b[0m)              │            \u001b[38;5;34m17\u001b[0m │\n",
       "└─────────────────────────────────┴────────────────────────┴───────────────┘\n"
      ]
     },
     "metadata": {},
     "output_type": "display_data"
    },
    {
     "data": {
      "text/html": [
       "<pre style=\"white-space:pre;overflow-x:auto;line-height:normal;font-family:Menlo,'DejaVu Sans Mono',consolas,'Courier New',monospace\"><span style=\"font-weight: bold\"> Total params: </span><span style=\"color: #00af00; text-decoration-color: #00af00\">705</span> (2.75 KB)\n",
       "</pre>\n"
      ],
      "text/plain": [
       "\u001b[1m Total params: \u001b[0m\u001b[38;5;34m705\u001b[0m (2.75 KB)\n"
      ]
     },
     "metadata": {},
     "output_type": "display_data"
    },
    {
     "data": {
      "text/html": [
       "<pre style=\"white-space:pre;overflow-x:auto;line-height:normal;font-family:Menlo,'DejaVu Sans Mono',consolas,'Courier New',monospace\"><span style=\"font-weight: bold\"> Trainable params: </span><span style=\"color: #00af00; text-decoration-color: #00af00\">705</span> (2.75 KB)\n",
       "</pre>\n"
      ],
      "text/plain": [
       "\u001b[1m Trainable params: \u001b[0m\u001b[38;5;34m705\u001b[0m (2.75 KB)\n"
      ]
     },
     "metadata": {},
     "output_type": "display_data"
    },
    {
     "data": {
      "text/html": [
       "<pre style=\"white-space:pre;overflow-x:auto;line-height:normal;font-family:Menlo,'DejaVu Sans Mono',consolas,'Courier New',monospace\"><span style=\"font-weight: bold\"> Non-trainable params: </span><span style=\"color: #00af00; text-decoration-color: #00af00\">0</span> (0.00 B)\n",
       "</pre>\n"
      ],
      "text/plain": [
       "\u001b[1m Non-trainable params: \u001b[0m\u001b[38;5;34m0\u001b[0m (0.00 B)\n"
      ]
     },
     "metadata": {},
     "output_type": "display_data"
    },
    {
     "name": "stdout",
     "output_type": "stream",
     "text": [
      "Epoch 1/20\n",
      "\u001b[1m338/338\u001b[0m \u001b[32m━━━━━━━━━━━━━━━━━━━━\u001b[0m\u001b[37m\u001b[0m \u001b[1m6s\u001b[0m 6ms/step - accuracy: 0.5077 - loss: 0.6936 - val_accuracy: 0.5244 - val_loss: 0.6916\n",
      "Epoch 2/20\n",
      "\u001b[1m338/338\u001b[0m \u001b[32m━━━━━━━━━━━━━━━━━━━━\u001b[0m\u001b[37m\u001b[0m \u001b[1m2s\u001b[0m 5ms/step - accuracy: 0.5264 - loss: 0.6905 - val_accuracy: 0.5311 - val_loss: 0.6909\n",
      "Epoch 3/20\n",
      "\u001b[1m338/338\u001b[0m \u001b[32m━━━━━━━━━━━━━━━━━━━━\u001b[0m\u001b[37m\u001b[0m \u001b[1m2s\u001b[0m 5ms/step - accuracy: 0.5316 - loss: 0.6897 - val_accuracy: 0.5311 - val_loss: 0.6900\n",
      "Epoch 4/20\n",
      "\u001b[1m338/338\u001b[0m \u001b[32m━━━━━━━━━━━━━━━━━━━━\u001b[0m\u001b[37m\u001b[0m \u001b[1m2s\u001b[0m 5ms/step - accuracy: 0.5385 - loss: 0.6885 - val_accuracy: 0.5390 - val_loss: 0.6880\n",
      "Epoch 5/20\n",
      "\u001b[1m338/338\u001b[0m \u001b[32m━━━━━━━━━━━━━━━━━━━━\u001b[0m\u001b[37m\u001b[0m \u001b[1m2s\u001b[0m 4ms/step - accuracy: 0.5345 - loss: 0.6886 - val_accuracy: 0.5436 - val_loss: 0.6873\n",
      "Epoch 6/20\n",
      "\u001b[1m338/338\u001b[0m \u001b[32m━━━━━━━━━━━━━━━━━━━━\u001b[0m\u001b[37m\u001b[0m \u001b[1m2s\u001b[0m 5ms/step - accuracy: 0.5420 - loss: 0.6866 - val_accuracy: 0.5474 - val_loss: 0.6862\n",
      "Epoch 7/20\n",
      "\u001b[1m338/338\u001b[0m \u001b[32m━━━━━━━━━━━━━━━━━━━━\u001b[0m\u001b[37m\u001b[0m \u001b[1m2s\u001b[0m 5ms/step - accuracy: 0.5408 - loss: 0.6857 - val_accuracy: 0.5457 - val_loss: 0.6851\n",
      "Epoch 8/20\n",
      "\u001b[1m338/338\u001b[0m \u001b[32m━━━━━━━━━━━━━━━━━━━━\u001b[0m\u001b[37m\u001b[0m \u001b[1m2s\u001b[0m 4ms/step - accuracy: 0.5439 - loss: 0.6843 - val_accuracy: 0.5378 - val_loss: 0.6844\n",
      "Epoch 9/20\n",
      "\u001b[1m338/338\u001b[0m \u001b[32m━━━━━━━━━━━━━━━━━━━━\u001b[0m\u001b[37m\u001b[0m \u001b[1m2s\u001b[0m 4ms/step - accuracy: 0.5478 - loss: 0.6829 - val_accuracy: 0.5557 - val_loss: 0.6817\n",
      "Epoch 10/20\n",
      "\u001b[1m338/338\u001b[0m \u001b[32m━━━━━━━━━━━━━━━━━━━━\u001b[0m\u001b[37m\u001b[0m \u001b[1m2s\u001b[0m 4ms/step - accuracy: 0.5522 - loss: 0.6816 - val_accuracy: 0.5620 - val_loss: 0.6803\n",
      "Epoch 11/20\n",
      "\u001b[1m338/338\u001b[0m \u001b[32m━━━━━━━━━━━━━━━━━━━━\u001b[0m\u001b[37m\u001b[0m \u001b[1m2s\u001b[0m 5ms/step - accuracy: 0.5511 - loss: 0.6807 - val_accuracy: 0.5553 - val_loss: 0.6795\n",
      "Epoch 12/20\n",
      "\u001b[1m338/338\u001b[0m \u001b[32m━━━━━━━━━━━━━━━━━━━━\u001b[0m\u001b[37m\u001b[0m \u001b[1m2s\u001b[0m 4ms/step - accuracy: 0.5539 - loss: 0.6797 - val_accuracy: 0.5711 - val_loss: 0.6771\n",
      "Epoch 13/20\n",
      "\u001b[1m338/338\u001b[0m \u001b[32m━━━━━━━━━━━━━━━━━━━━\u001b[0m\u001b[37m\u001b[0m \u001b[1m2s\u001b[0m 4ms/step - accuracy: 0.5577 - loss: 0.6768 - val_accuracy: 0.5653 - val_loss: 0.6742\n",
      "Epoch 14/20\n",
      "\u001b[1m338/338\u001b[0m \u001b[32m━━━━━━━━━━━━━━━━━━━━\u001b[0m\u001b[37m\u001b[0m \u001b[1m2s\u001b[0m 4ms/step - accuracy: 0.5570 - loss: 0.6760 - val_accuracy: 0.5578 - val_loss: 0.6745\n",
      "Epoch 15/20\n",
      "\u001b[1m338/338\u001b[0m \u001b[32m━━━━━━━━━━━━━━━━━━━━\u001b[0m\u001b[37m\u001b[0m \u001b[1m2s\u001b[0m 4ms/step - accuracy: 0.5533 - loss: 0.6749 - val_accuracy: 0.5665 - val_loss: 0.6718\n",
      "Epoch 16/20\n",
      "\u001b[1m338/338\u001b[0m \u001b[32m━━━━━━━━━━━━━━━━━━━━\u001b[0m\u001b[37m\u001b[0m \u001b[1m2s\u001b[0m 4ms/step - accuracy: 0.5636 - loss: 0.6719 - val_accuracy: 0.5782 - val_loss: 0.6673\n",
      "Epoch 17/20\n",
      "\u001b[1m338/338\u001b[0m \u001b[32m━━━━━━━━━━━━━━━━━━━━\u001b[0m\u001b[37m\u001b[0m \u001b[1m2s\u001b[0m 5ms/step - accuracy: 0.5641 - loss: 0.6695 - val_accuracy: 0.5649 - val_loss: 0.6642\n",
      "Epoch 18/20\n",
      "\u001b[1m338/338\u001b[0m \u001b[32m━━━━━━━━━━━━━━━━━━━━\u001b[0m\u001b[37m\u001b[0m \u001b[1m2s\u001b[0m 5ms/step - accuracy: 0.5623 - loss: 0.6663 - val_accuracy: 0.5732 - val_loss: 0.6625\n",
      "Epoch 19/20\n",
      "\u001b[1m338/338\u001b[0m \u001b[32m━━━━━━━━━━━━━━━━━━━━\u001b[0m\u001b[37m\u001b[0m \u001b[1m2s\u001b[0m 5ms/step - accuracy: 0.5658 - loss: 0.6641 - val_accuracy: 0.5807 - val_loss: 0.6583\n",
      "Epoch 20/20\n",
      "\u001b[1m338/338\u001b[0m \u001b[32m━━━━━━━━━━━━━━━━━━━━\u001b[0m\u001b[37m\u001b[0m \u001b[1m2s\u001b[0m 5ms/step - accuracy: 0.5631 - loss: 0.6660 - val_accuracy: 0.5741 - val_loss: 0.6608\n",
      "\u001b[1m188/188\u001b[0m \u001b[32m━━━━━━━━━━━━━━━━━━━━\u001b[0m\u001b[37m\u001b[0m \u001b[1m1s\u001b[0m 3ms/step\n",
      "\n",
      "Neural Network Accuracy: 0.587283044058745\n",
      "\n",
      "Neural Network Classification Report:\n",
      "               precision    recall  f1-score   support\n",
      "\n",
      "           0       0.55      0.97      0.71      3052\n",
      "           1       0.87      0.19      0.31      2940\n",
      "\n",
      "    accuracy                           0.59      5992\n",
      "   macro avg       0.71      0.58      0.51      5992\n",
      "weighted avg       0.71      0.59      0.51      5992\n",
      "\n"
     ]
    },
    {
     "data": {
      "image/png": "[encoded data removed]",
      "text/plain": [
       "<Figure size 640x480 with 2 Axes>"
      ]
     },
     "metadata": {},
     "output_type": "display_data"
    }
   ],
   "source": [
    "print(\"--- Building and Training Neural Network ---\")\n",
    "nn_model = Sequential([\n",
    "    Dense(32, activation='relu', input_shape=(X_train_scaled.shape[1],)),\n",
    "    Dropout(0.2),\n",
    "    Dense(16, activation='relu'),\n",
    "    Dropout(0.2),\n",
    "    Dense(1, activation='sigmoid') # Sigmoid for binary classification\n",
    "])\n",
    "\n",
    "# Compile the model\n",
    "nn_model.compile(optimizer='adam', loss='binary_crossentropy', metrics=['accuracy'])\n",
    "\n",
    "nn_model.summary()\n",
    "\n",
    "# Train the model\n",
    "history = nn_model.fit(\n",
    "    X_train_scaled, \n",
    "    y_train, \n",
    "    epochs=20, \n",
    "    batch_size=64, \n",
    "    validation_split=0.1, # Use 10% of training data for validation\n",
    "    verbose=1\n",
    ")\n",
    "\n",
    "# Make predictions (output will be probabilities)\n",
    "y_pred_nn_proba = nn_model.predict(X_test_scaled)\n",
    "y_pred_nn = (y_pred_nn_proba > 0.5).astype(int) # Convert probabilities to 0 or 1\n",
    "\n",
    "# Evaluate the model\n",
    "print(\"\\nNeural Network Accuracy:\", accuracy_score(y_test, y_pred_nn))\n",
    "print(\"\\nNeural Network Classification Report:\\n\", classification_report(y_test, y_pred_nn))\n",
    "\n",
    "# Plot confusion matrix\n",
    "cm_nn = confusion_matrix(y_test, y_pred_nn)\n",
    "sns.heatmap(cm_nn, annot=True, fmt='d', cmap='Oranges')\n",
    "plt.title('Neural Network Confusion Matrix')\n",
    "plt.xlabel('Predicted')\n",
    "plt.ylabel('Actual')\n",
    "plt.show()"
   ]
  },
  {
   "cell_type": "markdown",
   "metadata": {},
   "source": [
    "---"
   ]
  },
  {
   "cell_type": "markdown",
   "metadata": {},
   "source": [
    "### Step 4: Compare Model Performance"
   ]
  },
  {
   "cell_type": "code",
   "execution_count": 7,
   "metadata": {},
   "outputs": [
    {
     "name": "stdout",
     "output_type": "stream",
     "text": [
      "--- Model Performance Comparison ---\n"
     ]
    },
    {
     "data": {
      "text/html": [
       "<div>\n",
       "<style scoped>\n",
       "    .dataframe tbody tr th:only-of-type {\n",
       "        vertical-align: middle;\n",
       "    }\n",
       "\n",
       "    .dataframe tbody tr th {\n",
       "        vertical-align: top;\n",
       "    }\n",
       "\n",
       "    .dataframe thead th {\n",
       "        text-align: right;\n",
       "    }\n",
       "</style>\n",
       "<table border=\"1\" class=\"dataframe\">\n",
       "  <thead>\n",
       "    <tr style=\"text-align: right;\">\n",
       "      <th></th>\n",
       "      <th>Accuracy</th>\n",
       "      <th>Precision (for FAULT)</th>\n",
       "      <th>Recall (for FAULT)</th>\n",
       "      <th>F1-Score (for FAULT)</th>\n",
       "    </tr>\n",
       "    <tr>\n",
       "      <th>Model</th>\n",
       "      <th></th>\n",
       "      <th></th>\n",
       "      <th></th>\n",
       "      <th></th>\n",
       "    </tr>\n",
       "  </thead>\n",
       "  <tbody>\n",
       "    <tr>\n",
       "      <th>SVM</th>\n",
       "      <td>0.580107</td>\n",
       "      <td>0.709073</td>\n",
       "      <td>0.244558</td>\n",
       "      <td>0.363682</td>\n",
       "    </tr>\n",
       "    <tr>\n",
       "      <th>Random Forest</th>\n",
       "      <td>0.920227</td>\n",
       "      <td>1.000000</td>\n",
       "      <td>0.837415</td>\n",
       "      <td>0.911514</td>\n",
       "    </tr>\n",
       "    <tr>\n",
       "      <th>Neural Network</th>\n",
       "      <td>0.587283</td>\n",
       "      <td>0.868878</td>\n",
       "      <td>0.187075</td>\n",
       "      <td>0.307865</td>\n",
       "    </tr>\n",
       "  </tbody>\n",
       "</table>\n",
       "</div>"
      ],
      "text/plain": [
       "                Accuracy  Precision (for FAULT)  Recall (for FAULT)  \\\n",
       "Model                                                                 \n",
       "SVM             0.580107               0.709073            0.244558   \n",
       "Random Forest   0.920227               1.000000            0.837415   \n",
       "Neural Network  0.587283               0.868878            0.187075   \n",
       "\n",
       "                F1-Score (for FAULT)  \n",
       "Model                                 \n",
       "SVM                         0.363682  \n",
       "Random Forest               0.911514  \n",
       "Neural Network              0.307865  "
      ]
     },
     "execution_count": 7,
     "metadata": {},
     "output_type": "execute_result"
    }
   ],
   "source": [
    "def get_metrics(y_true, y_pred):\n",
    "    report = classification_report(y_true, y_pred, output_dict=True)\n",
    "    # Get metrics for the 'FAULT' class (label 1)\n",
    "    precision = report['1']['precision']\n",
    "    recall = report['1']['recall']\n",
    "    f1_score = report['1']['f1-score']\n",
    "    accuracy = accuracy_score(y_true, y_pred)\n",
    "    return accuracy, precision, recall, f1_score\n",
    "\n",
    "# Get metrics for each model\n",
    "acc_svm, pre_svm, rec_svm, f1_svm = get_metrics(y_test, y_pred_svm)\n",
    "acc_rf, pre_rf, rec_rf, f1_rf = get_metrics(y_test, y_pred_rf)\n",
    "acc_nn, pre_nn, rec_nn, f1_nn = get_metrics(y_test, y_pred_nn)\n",
    "\n",
    "# Create a comparison DataFrame\n",
    "comparison_data = {\n",
    "    'Model': ['SVM', 'Random Forest', 'Neural Network'],\n",
    "    'Accuracy': [acc_svm, acc_rf, acc_nn],\n",
    "    'Precision (for FAULT)': [pre_svm, pre_rf, pre_nn],\n",
    "    'Recall (for FAULT)': [rec_svm, rec_rf, rec_nn],\n",
    "    'F1-Score (for FAULT)': [f1_svm, f1_rf, f1_nn]\n",
    "}\n",
    "\n",
    "comparison_df = pd.DataFrame(comparison_data)\n",
    "comparison_df.set_index('Model', inplace=True)\n",
    "\n",
    "print(\"--- Model Performance Comparison ---\")\n",
    "comparison_df"
   ]
  },
  {
   "cell_type": "code",
   "execution_count": 13,
   "metadata": {},
   "outputs": [
    {
     "name": "stdout",
     "output_type": "stream",
     "text": [
      "\n",
      "--- Final Validation Results ---\n",
      "      a     b  opcode  faulty_result  Model Prediction  Expected Outcome\n",
      "0   100    50       0            150                 0                 0\n",
      "1   100    50       0            151                 0                 1\n",
      "2    -1    -1       4              0                 0                 0\n",
      "3  2000  3000       1          -1001                 0                 1\n",
      "4  1024  1024       2           1024                 0                 0\n"
     ]
    }
   ],
   "source": [
    "# In your FINAL validation cell\n",
    "\n",
    "import pandas as pd\n",
    "import numpy as np\n",
    "\n",
    "# This function must match the one used for feature engineering\n",
    "def get_golden_result(row):\n",
    "    a = row['a']\n",
    "    b = row['b']\n",
    "    opcode = row['opcode']\n",
    "    if opcode == 0: return a + b\n",
    "    if opcode == 1: return a - b\n",
    "    if opcode == 2: return a & b\n",
    "    if opcode == 3: return a | b\n",
    "    if opcode == 4: return a ^ b\n",
    "    return 0\n",
    "\n",
    "# 1. Create a DataFrame with the custom test data\n",
    "test_data = {\n",
    "    'a': [100, 100, -1, 2000, 1024],\n",
    "    'b': [50, 50, -1, 3000, 1024],\n",
    "    'opcode': [0, 0, 4, 1, 2],\n",
    "    'faulty_result': [150, 151, 0, -1001, 1024]\n",
    "}\n",
    "custom_df = pd.DataFrame(test_data)\n",
    "\n",
    "# 2. Apply the SAME feature engineering to the custom data\n",
    "custom_df['golden_result'] = custom_df.apply(get_golden_result, axis=1)\n",
    "custom_df['difference'] = (custom_df['golden_result'] - custom_df['faulty_result']).abs()\n",
    "\n",
    "# 3. Select the correct features ('difference') and scale them\n",
    "# This is the feature set the final model was trained on\n",
    "X_custom = custom_df[['a', 'b', 'opcode', 'difference']]\n",
    "X_custom_scaled = scaler.transform(X_custom)\n",
    "\n",
    "# 4. Make predictions with your final Random Forest model\n",
    "predictions = rf_model.predict(X_custom_scaled)\n",
    "\n",
    "# 5. Display the results for comparison\n",
    "results_df = custom_df[['a', 'b', 'opcode', 'faulty_result']].copy()\n",
    "results_df['Model Prediction'] = predictions\n",
    "results_df['Expected Outcome'] = [0, 1, 0, 1, 0]\n",
    "\n",
    "print(\"\\n--- Final Validation Results ---\")\n",
    "print(results_df)"
   ]
  }
 ],
 "metadata": {
  "kernelspec": {
   "display_name": "venv",
   "language": "python",
   "name": "python3"
  },
  "language_info": {
   "codemirror_mode": {
    "name": "ipython",
    "version": 3
   },
   "file_extension": ".py",
   "mimetype": "text/x-python",
   "name": "python",
   "nbconvert_exporter": "python",
   "pygments_lexer": "ipython3",
   "version": "3.12.10"
  }
 },
 "nbformat": 4,
 "nbformat_minor": 4
}
