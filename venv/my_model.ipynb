{
 "cells": [
  {
   "cell_type": "markdown",
   "id": "5246d1aa",
   "metadata": {},
   "source": [
    "# importing libraries"
   ]
  },
  {
   "cell_type": "code",
   "execution_count": 2,
   "id": "0584bd0e",
   "metadata": {},
   "outputs": [],
   "source": [
    "# 🛠 Step 1: Import Libraries\n",
    "import pandas as pd\n",
    "import numpy as np\n",
    "from sklearn.model_selection import train_test_split\n",
    "from sklearn.preprocessing import LabelEncoder\n",
    "from sklearn.metrics import accuracy_score, classification_report, confusion_matrix\n",
    "from sklearn.linear_model import LogisticRegression\n",
    "from sklearn.ensemble import RandomForestClassifier\n",
    "from sklearn.svm import SVC\n",
    "import joblib  # for saving models\n"
   ]
  },
  {
   "cell_type": "markdown",
   "id": "0b664bd4",
   "metadata": {},
   "source": [
    "## Step 2: Load the Dataset\n",
    "\n",
    "\n"
   ]
  },
  {
   "cell_type": "code",
   "execution_count": 4,
   "id": "da318641",
   "metadata": {},
   "outputs": [
    {
     "data": {
      "text/html": [
       "<div>\n",
       "<style scoped>\n",
       "    .dataframe tbody tr th:only-of-type {\n",
       "        vertical-align: middle;\n",
       "    }\n",
       "\n",
       "    .dataframe tbody tr th {\n",
       "        vertical-align: top;\n",
       "    }\n",
       "\n",
       "    .dataframe thead th {\n",
       "        text-align: right;\n",
       "    }\n",
       "</style>\n",
       "<table border=\"1\" class=\"dataframe\">\n",
       "  <thead>\n",
       "    <tr style=\"text-align: right;\">\n",
       "      <th></th>\n",
       "      <th>a</th>\n",
       "      <th>b</th>\n",
       "      <th>opcode</th>\n",
       "      <th>golden_result</th>\n",
       "      <th>faulty_result</th>\n",
       "      <th>label</th>\n",
       "    </tr>\n",
       "  </thead>\n",
       "  <tbody>\n",
       "    <tr>\n",
       "      <th>0</th>\n",
       "      <td>303379748</td>\n",
       "      <td>3230228097</td>\n",
       "      <td>2</td>\n",
       "      <td>70656</td>\n",
       "      <td>70656</td>\n",
       "      <td>OK</td>\n",
       "    </tr>\n",
       "    <tr>\n",
       "      <th>1</th>\n",
       "      <td>2223298057</td>\n",
       "      <td>2985317987</td>\n",
       "      <td>0</td>\n",
       "      <td>913648748</td>\n",
       "      <td>913648748</td>\n",
       "      <td>OK</td>\n",
       "    </tr>\n",
       "    <tr>\n",
       "      <th>2</th>\n",
       "      <td>112818957</td>\n",
       "      <td>1189058957</td>\n",
       "      <td>2</td>\n",
       "      <td>110696717</td>\n",
       "      <td>110696717</td>\n",
       "      <td>OK</td>\n",
       "    </tr>\n",
       "    <tr>\n",
       "      <th>3</th>\n",
       "      <td>2999092325</td>\n",
       "      <td>2302104082</td>\n",
       "      <td>0</td>\n",
       "      <td>1006229111</td>\n",
       "      <td>1006163575</td>\n",
       "      <td>FAULT</td>\n",
       "    </tr>\n",
       "    <tr>\n",
       "      <th>4</th>\n",
       "      <td>15983361</td>\n",
       "      <td>114806029</td>\n",
       "      <td>2</td>\n",
       "      <td>13877505</td>\n",
       "      <td>13877505</td>\n",
       "      <td>OK</td>\n",
       "    </tr>\n",
       "  </tbody>\n",
       "</table>\n",
       "</div>"
      ],
      "text/plain": [
       "            a           b  opcode  golden_result  faulty_result  label\n",
       "0   303379748  3230228097       2          70656          70656     OK\n",
       "1  2223298057  2985317987       0      913648748      913648748     OK\n",
       "2   112818957  1189058957       2      110696717      110696717     OK\n",
       "3  2999092325  2302104082       0     1006229111     1006163575  FAULT\n",
       "4    15983361   114806029       2       13877505       13877505     OK"
      ]
     },
     "execution_count": 4,
     "metadata": {},
     "output_type": "execute_result"
    }
   ],
   "source": [
    "# Load dataset (update the filename to your CSV)\n",
    "df = pd.read_csv(\"alu_dataset.csv\")\n",
    "\n",
    "# Show first 5 rows\n",
    "df.head()\n"
   ]
  },
  {
   "cell_type": "markdown",
   "id": "d816b1a5",
   "metadata": {},
   "source": [
    "## 🔧 Step 3: Preprocess Data\n"
   ]
  },
  {
   "cell_type": "code",
   "execution_count": 5,
   "id": "a896b489",
   "metadata": {},
   "outputs": [],
   "source": [
    "# Encode labels\n",
    "label_encoder = LabelEncoder()\n",
    "df['label'] = label_encoder.fit_transform(df['label'])  # OK=0, FAULT=1\n",
    "\n",
    "# Features and target\n",
    "X = df[['a', 'b', 'opcode', 'golden_result', 'faulty_result']]\n",
    "y = df['label']\n",
    "\n",
    "# Train-test split (80% train, 20% test)\n",
    "X_train, X_test, y_train, y_test = train_test_split(X, y, test_size=0.2, random_state=42)\n"
   ]
  },
  {
   "cell_type": "markdown",
   "id": "3f224b2f",
   "metadata": {},
   "source": [
    "## 🤖 Step 4: Train Machine Learning Models\n",
    "We will try three models:\n",
    "1. Logistic Regression\n",
    "2. Random Forest\n",
    "3. Support Vector Machine (SVM)\n"
   ]
  },
  {
   "cell_type": "code",
   "execution_count": 6,
   "id": "57c34538",
   "metadata": {},
   "outputs": [],
   "source": [
    "# Logistic Regression\n",
    "lr = LogisticRegression(max_iter=1000)\n",
    "lr.fit(X_train, y_train)\n",
    "y_pred_lr = lr.predict(X_test)\n",
    "\n",
    "# Random Forest\n",
    "rf = RandomForestClassifier(n_estimators=100, random_state=42)\n",
    "rf.fit(X_train, y_train)\n",
    "y_pred_rf = rf.predict(X_test)\n",
    "\n",
    "# Support Vector Machine\n",
    "svm = SVC(kernel='rbf', probability=True)\n",
    "svm.fit(X_train, y_train)\n",
    "y_pred_svm = svm.predict(X_test)\n"
   ]
  },
  {
   "cell_type": "markdown",
   "id": "4869a1b5",
   "metadata": {},
   "source": [
    "## 📊 Step 5: Evaluate Models"
   ]
  },
  {
   "cell_type": "code",
   "execution_count": 7,
   "id": "ce9dd572",
   "metadata": {},
   "outputs": [
    {
     "name": "stdout",
     "output_type": "stream",
     "text": [
      "\n",
      "🔹 Logistic Regression Results:\n",
      "Accuracy: 0.9029029029029029\n",
      "Classification Report:\n",
      "               precision    recall  f1-score   support\n",
      "\n",
      "           0       0.00      0.00      0.00        97\n",
      "           1       0.90      1.00      0.95       902\n",
      "\n",
      "    accuracy                           0.90       999\n",
      "   macro avg       0.45      0.50      0.47       999\n",
      "weighted avg       0.82      0.90      0.86       999\n",
      "\n",
      "Confusion Matrix:\n",
      " [[  0  97]\n",
      " [  0 902]]\n",
      "\n",
      "🔹 Random Forest Results:\n",
      "Accuracy: 0.9029029029029029\n",
      "Classification Report:\n",
      "               precision    recall  f1-score   support\n",
      "\n",
      "           0       0.50      0.04      0.08        97\n",
      "           1       0.91      1.00      0.95       902\n",
      "\n",
      "    accuracy                           0.90       999\n",
      "   macro avg       0.70      0.52      0.51       999\n",
      "weighted avg       0.87      0.90      0.86       999\n",
      "\n",
      "Confusion Matrix:\n",
      " [[  4  93]\n",
      " [  4 898]]\n",
      "\n",
      "🔹 SVM Results:\n",
      "Accuracy: 0.9029029029029029\n",
      "Classification Report:\n",
      "               precision    recall  f1-score   support\n",
      "\n",
      "           0       0.00      0.00      0.00        97\n",
      "           1       0.90      1.00      0.95       902\n",
      "\n",
      "    accuracy                           0.90       999\n",
      "   macro avg       0.45      0.50      0.47       999\n",
      "weighted avg       0.82      0.90      0.86       999\n",
      "\n",
      "Confusion Matrix:\n",
      " [[  0  97]\n",
      " [  0 902]]\n"
     ]
    },
    {
     "name": "stderr",
     "output_type": "stream",
     "text": [
      "d:\\mini_project\\venv\\Lib\\site-packages\\sklearn\\metrics\\_classification.py:1731: UndefinedMetricWarning: Precision is ill-defined and being set to 0.0 in labels with no predicted samples. Use `zero_division` parameter to control this behavior.\n",
      "  _warn_prf(average, modifier, f\"{metric.capitalize()} is\", result.shape[0])\n",
      "d:\\mini_project\\venv\\Lib\\site-packages\\sklearn\\metrics\\_classification.py:1731: UndefinedMetricWarning: Precision is ill-defined and being set to 0.0 in labels with no predicted samples. Use `zero_division` parameter to control this behavior.\n",
      "  _warn_prf(average, modifier, f\"{metric.capitalize()} is\", result.shape[0])\n",
      "d:\\mini_project\\venv\\Lib\\site-packages\\sklearn\\metrics\\_classification.py:1731: UndefinedMetricWarning: Precision is ill-defined and being set to 0.0 in labels with no predicted samples. Use `zero_division` parameter to control this behavior.\n",
      "  _warn_prf(average, modifier, f\"{metric.capitalize()} is\", result.shape[0])\n",
      "d:\\mini_project\\venv\\Lib\\site-packages\\sklearn\\metrics\\_classification.py:1731: UndefinedMetricWarning: Precision is ill-defined and being set to 0.0 in labels with no predicted samples. Use `zero_division` parameter to control this behavior.\n",
      "  _warn_prf(average, modifier, f\"{metric.capitalize()} is\", result.shape[0])\n",
      "d:\\mini_project\\venv\\Lib\\site-packages\\sklearn\\metrics\\_classification.py:1731: UndefinedMetricWarning: Precision is ill-defined and being set to 0.0 in labels with no predicted samples. Use `zero_division` parameter to control this behavior.\n",
      "  _warn_prf(average, modifier, f\"{metric.capitalize()} is\", result.shape[0])\n",
      "d:\\mini_project\\venv\\Lib\\site-packages\\sklearn\\metrics\\_classification.py:1731: UndefinedMetricWarning: Precision is ill-defined and being set to 0.0 in labels with no predicted samples. Use `zero_division` parameter to control this behavior.\n",
      "  _warn_prf(average, modifier, f\"{metric.capitalize()} is\", result.shape[0])\n"
     ]
    }
   ],
   "source": [
    "def evaluate_model(name, y_test, y_pred):\n",
    "    print(f\"\\n🔹 {name} Results:\")\n",
    "    print(\"Accuracy:\", accuracy_score(y_test, y_pred))\n",
    "    print(\"Classification Report:\\n\", classification_report(y_test, y_pred))\n",
    "    print(\"Confusion Matrix:\\n\", confusion_matrix(y_test, y_pred))\n",
    "\n",
    "evaluate_model(\"Logistic Regression\", y_test, y_pred_lr)\n",
    "evaluate_model(\"Random Forest\", y_test, y_pred_rf)\n",
    "evaluate_model(\"SVM\", y_test, y_pred_svm)\n"
   ]
  },
  {
   "cell_type": "markdown",
   "id": "1b3a4e04",
   "metadata": {},
   "source": [
    "## 💾 Step 6: Save the Best Model\n",
    "We can save the trained model for later use in Python programs.\n"
   ]
  },
  {
   "cell_type": "code",
   "execution_count": 8,
   "id": "b5223064",
   "metadata": {},
   "outputs": [
    {
     "name": "stdout",
     "output_type": "stream",
     "text": [
      "✅ Model saved as alu_fault_detector.pkl\n"
     ]
    }
   ],
   "source": [
    "# Save Random Forest as example (if it performs best)\n",
    "joblib.dump(rf, \"alu_fault_detector.pkl\")\n",
    "print(\"✅ Model saved as alu_fault_detector.pkl\")\n"
   ]
  },
  {
   "cell_type": "markdown",
   "id": "ca5e61c3",
   "metadata": {},
   "source": [
    "# 🎯 Conclusion\n",
    "- We trained multiple ML models to detect ALU faults.\n",
    "- Random Forest often performs best for this kind of classification problem.\n",
    "- The trained model can now be used to predict on **new ALU outputs** \n",
    "  and detect if a fault has occurred.\n"
   ]
  },
  {
   "cell_type": "code",
   "execution_count": 4,
   "id": "d72761ce",
   "metadata": {},
   "outputs": [
    {
     "name": "stdout",
     "output_type": "stream",
     "text": [
      "[({'a': 10, 'b': 20, 'opcode': 0, 'golden_result': 30, 'faulty_result': 30}, np.int64(1)), ({'a': 15, 'b': 5, 'opcode': 1, 'golden_result': 10, 'faulty_result': 10}, np.int64(1)), ({'a': 7, 'b': 3, 'opcode': 2, 'golden_result': 3, 'faulty_result': 3}, np.int64(1)), ({'a': 6, 'b': 2, 'opcode': 3, 'golden_result': 6, 'faulty_result': 6}, np.int64(1)), ({'a': 12, 'b': 5, 'opcode': 4, 'golden_result': 9, 'faulty_result': 9}, np.int64(1)), ({'a': 10, 'b': 20, 'opcode': 0, 'golden_result': 30, 'faulty_result': 31}, np.int64(1)), ({'a': 15, 'b': 5, 'opcode': 1, 'golden_result': 10, 'faulty_result': 8}, np.int64(1)), ({'a': 7, 'b': 3, 'opcode': 2, 'golden_result': 3, 'faulty_result': 0}, np.int64(1)), ({'a': 6, 'b': 2, 'opcode': 3, 'golden_result': 6, 'faulty_result': 7}, np.int64(1)), ({'a': 12, 'b': 5, 'opcode': 4, 'golden_result': 9, 'faulty_result': 11}, np.int64(1))]\n"
     ]
    }
   ],
   "source": [
    "import pandas as pd\n",
    "import joblib\n",
    "\n",
    "# Load your saved model (pick the best one you saved, e.g., Random Forest)\n",
    "model = joblib.load(\"alu_fault_detector.pkl\")\n",
    "\n",
    "# Create test cases (same format as training data)\n",
    "test_cases = pd.DataFrame([\n",
    "    # ✅ OK cases\n",
    "    {\"a\": 10, \"b\": 20, \"opcode\": 0, \"golden_result\": 30, \"faulty_result\": 30},  # ADD\n",
    "    {\"a\": 15, \"b\": 5,  \"opcode\": 1, \"golden_result\": 10, \"faulty_result\": 10},  # SUB\n",
    "    {\"a\": 7,  \"b\": 3,  \"opcode\": 2, \"golden_result\": 3,  \"faulty_result\": 3},   # AND\n",
    "    {\"a\": 6,  \"b\": 2,  \"opcode\": 3, \"golden_result\": 6,  \"faulty_result\": 6},   # OR\n",
    "    {\"a\": 12, \"b\": 5,  \"opcode\": 4, \"golden_result\": 9,  \"faulty_result\": 9},   # XOR\n",
    "\n",
    "    # ❌ Faulty cases\n",
    "    {\"a\": 10, \"b\": 20, \"opcode\": 0, \"golden_result\": 30, \"faulty_result\": 31},  # bit-flip\n",
    "    {\"a\": 15, \"b\": 5,  \"opcode\": 1, \"golden_result\": 10, \"faulty_result\": 8},   # wrong SUB\n",
    "    {\"a\": 7,  \"b\": 3,  \"opcode\": 2, \"golden_result\": 3,  \"faulty_result\": 0},   # AND fault\n",
    "    {\"a\": 6,  \"b\": 2,  \"opcode\": 3, \"golden_result\": 6,  \"faulty_result\": 7},   # OR fault\n",
    "    {\"a\": 12, \"b\": 5,  \"opcode\": 4, \"golden_result\": 9,  \"faulty_result\": 11},  # XOR fault\n",
    "])\n",
    "\n",
    "# Predict\n",
    "predictions = model.predict(test_cases)\n",
    "print(list(zip(test_cases.to_dict(orient=\"records\"), predictions)))\n"
   ]
  }
 ],
 "metadata": {
  "kernelspec": {
   "display_name": "venv",
   "language": "python",
   "name": "python3"
  },
  "language_info": {
   "codemirror_mode": {
    "name": "ipython",
    "version": 3
   },
   "file_extension": ".py",
   "mimetype": "text/x-python",
   "name": "python",
   "nbconvert_exporter": "python",
   "pygments_lexer": "ipython3",
   "version": "3.12.10"
  }
 },
 "nbformat": 4,
 "nbformat_minor": 5
}
