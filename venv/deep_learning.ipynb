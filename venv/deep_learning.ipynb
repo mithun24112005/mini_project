{
 "cells": [
  {
   "cell_type": "markdown",
   "id": "84081a1a",
   "metadata": {},
   "source": [
    "### 1. Import required libraries"
   ]
  },
  {
   "cell_type": "code",
   "execution_count": 2,
   "id": "bf22ab3e",
   "metadata": {},
   "outputs": [],
   "source": [
    "import pandas as pd\n",
    "import numpy as np\n",
    "import matplotlib.pyplot as plt\n",
    "import seaborn as sns\n",
    "\n",
    "from sklearn.model_selection import train_test_split\n",
    "from sklearn.preprocessing import StandardScaler\n",
    "from sklearn.metrics import classification_report, confusion_matrix\n",
    "\n",
    "import tensorflow as tf\n",
    "from tensorflow.keras.models import Sequential\n",
    "from tensorflow.keras.layers import Dense, Dropout"
   ]
  },
  {
   "cell_type": "markdown",
   "id": "f2a24250",
   "metadata": {},
   "source": [
    "### 2. Load dataset"
   ]
  },
  {
   "cell_type": "code",
   "execution_count": 3,
   "id": "7dd2c0ff",
   "metadata": {},
   "outputs": [
    {
     "name": "stdout",
     "output_type": "stream",
     "text": [
      "Dataset Shape: (29964, 5)\n",
      "            a           b  opcode  faulty_result  fault_type\n",
      "0   303379748  3230228097       4     3533466277           1\n",
      "1  2985317987   112818957       2       11555329           0\n",
      "2  2999092325  2302104082       1      696988243           0\n",
      "3   114806029   992211318       2       50577668           1\n",
      "4  1993627629  1177417612       4      821665889           0\n"
     ]
    }
   ],
   "source": [
    "df = pd.read_csv(\"dataset_dl.csv\")\n",
    "\n",
    "print(\"Dataset Shape:\", df.shape)\n",
    "print(df.head())"
   ]
  },
  {
   "cell_type": "markdown",
   "id": "c7c676a3",
   "metadata": {},
   "source": [
    "### 3. Explore dataset"
   ]
  },
  {
   "cell_type": "code",
   "execution_count": 4,
   "id": "d62b98c9",
   "metadata": {},
   "outputs": [
    {
     "name": "stdout",
     "output_type": "stream",
     "text": [
      "\n",
      "Fault type distribution:\n",
      "fault_type\n",
      "1    10320\n",
      "2     9918\n",
      "0     9726\n",
      "Name: count, dtype: int64\n"
     ]
    }
   ],
   "source": [
    "print(\"\\nFault type distribution:\")\n",
    "print(df['fault_type'].value_counts())"
   ]
  },
  {
   "cell_type": "markdown",
   "id": "e5ba3f88",
   "metadata": {},
   "source": [
    "###  Plot distribution"
   ]
  },
  {
   "cell_type": "code",
   "execution_count": 5,
   "id": "32d75939",
   "metadata": {},
   "outputs": [
    {
     "data": {
      "image/png": "[encoded data removed]",
      "text/plain": [
       "<Figure size 640x480 with 1 Axes>"
      ]
     },
     "metadata": {},
     "output_type": "display_data"
    }
   ],
   "source": [
    "sns.countplot(x='fault_type', data=df)\n",
    "plt.title(\"Distribution of Fault Types\")\n",
    "plt.show()"
   ]
  },
  {
   "cell_type": "code",
   "execution_count": 6,
   "id": "1c007c89",
   "metadata": {},
   "outputs": [
    {
     "name": "stdout",
     "output_type": "stream",
     "text": [
      "DataFrame with new features:\n",
      "            a           b  opcode  faulty_result  correct_result  error_bits  \\\n",
      "0   303379748  3230228097       4     3533466277      3533466533         256   \n",
      "1  2985317987   112818957       2       11555329        11555329           0   \n",
      "2  2999092325  2302104082       1      696988243       696988243           0   \n",
      "3   114806029   992211318       2       50577668        33800452    16777216   \n",
      "4  1993627629  1177417612       4      821665889       821665889           0   \n",
      "\n",
      "   fault_type  \n",
      "0           1  \n",
      "1           0  \n",
      "2           0  \n",
      "3           1  \n",
      "4           0  \n"
     ]
    }
   ],
   "source": [
    "# --- ADD THIS CODE TO A NEW CELL IN YOUR NOTEBOOK ---\n",
    "\n",
    "# We need to assume the mapping from opcode number to operation.\n",
    "# Based on the original project description, a common mapping would be:\n",
    "# 0: ADD, 1: SUB, 2: AND, 3: OR, 4: XOR\n",
    "def correct_alu_operation(row):\n",
    "    \"\"\"\n",
    "    Simulates the correct 32-bit ALU operation for a given row of the DataFrame.\n",
    "    \"\"\"\n",
    "    a = row['a']\n",
    "    b = row['b']\n",
    "    opcode = row['opcode']\n",
    "\n",
    "    # Use a bitmask to ensure all operations are 32-bit\n",
    "    MASK = 0xFFFFFFFF\n",
    "\n",
    "    if opcode == 0:   # ADD\n",
    "        return (a + b) & MASK\n",
    "    elif opcode == 1: # SUB\n",
    "        return (a - b) & MASK\n",
    "    elif opcode == 2: # AND\n",
    "        return a & b\n",
    "    elif opcode == 3: # OR\n",
    "        return a | b\n",
    "    elif opcode == 4: # XOR\n",
    "        return a ^ b\n",
    "    else:\n",
    "        return 0\n",
    "\n",
    "# 1. Calculate the 'correct_result' for every row in the dataframe\n",
    "df['correct_result'] = df.apply(correct_alu_operation, axis=1)\n",
    "\n",
    "# 2. Create the powerful 'error_bits' feature using XOR.\n",
    "# This feature will be 0 if the result is correct, and will have bits set\n",
    "# to 1 where the faulty and correct results differ.\n",
    "df['error_bits'] = df['faulty_result'] ^ df['correct_result']\n",
    "\n",
    "# Display the new columns to verify\n",
    "print(\"DataFrame with new features:\")\n",
    "print(df[['a', 'b', 'opcode', 'faulty_result', 'correct_result', 'error_bits', 'fault_type']].head())"
   ]
  },
  {
   "cell_type": "markdown",
   "id": "32815dc0",
   "metadata": {},
   "source": [
    "### 4. Define features (X) and labels (y)"
   ]
  },
  {
   "cell_type": "code",
   "execution_count": 7,
   "id": "c76e195c",
   "metadata": {},
   "outputs": [
    {
     "name": "stdout",
     "output_type": "stream",
     "text": [
      "Feature shape: (29964, 5)\n",
      "Label shape: (29964,)\n"
     ]
    }
   ],
   "source": [
    "# --- NEW CODE ---\n",
    "# We now include 'error_bits' which is a much better feature!\n",
    "X = df[['a', 'b', 'opcode', 'faulty_result', 'error_bits']].values\n",
    "y = df['fault_type'].values\n",
    "\n",
    "print(\"Feature shape:\", X.shape)\n",
    "print(\"Label shape:\", y.shape)"
   ]
  },
  {
   "cell_type": "markdown",
   "id": "4f9f0514",
   "metadata": {},
   "source": [
    "### 5. Train-test split"
   ]
  },
  {
   "cell_type": "code",
   "execution_count": 8,
   "id": "c6e71a9c",
   "metadata": {},
   "outputs": [],
   "source": [
    "X_train, X_test, y_train, y_test = train_test_split(\n",
    "    X, y, test_size=0.2, random_state=42, stratify=y\n",
    ")\n",
    "\n",
    "# Scale inputs for better training\n",
    "scaler = StandardScaler()\n",
    "X_train = scaler.fit_transform(X_train)\n",
    "X_test = scaler.transform(X_test)"
   ]
  },
  {
   "cell_type": "markdown",
   "id": "37cb1d18",
   "metadata": {},
   "source": [
    "### 6. Build MLP model"
   ]
  },
  {
   "cell_type": "code",
   "execution_count": 9,
   "id": "97e3475c",
   "metadata": {},
   "outputs": [
    {
     "name": "stderr",
     "output_type": "stream",
     "text": [
      "d:\\mini_project\\venv\\Lib\\site-packages\\keras\\src\\layers\\core\\dense.py:92: UserWarning: Do not pass an `input_shape`/`input_dim` argument to a layer. When using Sequential models, prefer using an `Input(shape)` object as the first layer in the model instead.\n",
      "  super().__init__(activity_regularizer=activity_regularizer, **kwargs)\n"
     ]
    },
    {
     "data": {
      "text/html": [
       "<pre style=\"white-space:pre;overflow-x:auto;line-height:normal;font-family:Menlo,'DejaVu Sans Mono',consolas,'Courier New',monospace\"><span style=\"font-weight: bold\">Model: \"sequential\"</span>\n",
       "</pre>\n"
      ],
      "text/plain": [
       "\u001b[1mModel: \"sequential\"\u001b[0m\n"
      ]
     },
     "metadata": {},
     "output_type": "display_data"
    },
    {
     "data": {
      "text/html": [
       "<pre style=\"white-space:pre;overflow-x:auto;line-height:normal;font-family:Menlo,'DejaVu Sans Mono',consolas,'Courier New',monospace\">┏━━━━━━━━━━━━━━━━━━━━━━━━━━━━━━━━━┳━━━━━━━━━━━━━━━━━━━━━━━━┳━━━━━━━━━━━━━━━┓\n",
       "┃<span style=\"font-weight: bold\"> Layer (type)                    </span>┃<span style=\"font-weight: bold\"> Output Shape           </span>┃<span style=\"font-weight: bold\">       Param # </span>┃\n",
       "┡━━━━━━━━━━━━━━━━━━━━━━━━━━━━━━━━━╇━━━━━━━━━━━━━━━━━━━━━━━━╇━━━━━━━━━━━━━━━┩\n",
       "│ dense (<span style=\"color: #0087ff; text-decoration-color: #0087ff\">Dense</span>)                   │ (<span style=\"color: #00d7ff; text-decoration-color: #00d7ff\">None</span>, <span style=\"color: #00af00; text-decoration-color: #00af00\">64</span>)             │           <span style=\"color: #00af00; text-decoration-color: #00af00\">384</span> │\n",
       "├─────────────────────────────────┼────────────────────────┼───────────────┤\n",
       "│ dropout (<span style=\"color: #0087ff; text-decoration-color: #0087ff\">Dropout</span>)               │ (<span style=\"color: #00d7ff; text-decoration-color: #00d7ff\">None</span>, <span style=\"color: #00af00; text-decoration-color: #00af00\">64</span>)             │             <span style=\"color: #00af00; text-decoration-color: #00af00\">0</span> │\n",
       "├─────────────────────────────────┼────────────────────────┼───────────────┤\n",
       "│ dense_1 (<span style=\"color: #0087ff; text-decoration-color: #0087ff\">Dense</span>)                 │ (<span style=\"color: #00d7ff; text-decoration-color: #00d7ff\">None</span>, <span style=\"color: #00af00; text-decoration-color: #00af00\">32</span>)             │         <span style=\"color: #00af00; text-decoration-color: #00af00\">2,080</span> │\n",
       "├─────────────────────────────────┼────────────────────────┼───────────────┤\n",
       "│ dropout_1 (<span style=\"color: #0087ff; text-decoration-color: #0087ff\">Dropout</span>)             │ (<span style=\"color: #00d7ff; text-decoration-color: #00d7ff\">None</span>, <span style=\"color: #00af00; text-decoration-color: #00af00\">32</span>)             │             <span style=\"color: #00af00; text-decoration-color: #00af00\">0</span> │\n",
       "├─────────────────────────────────┼────────────────────────┼───────────────┤\n",
       "│ dense_2 (<span style=\"color: #0087ff; text-decoration-color: #0087ff\">Dense</span>)                 │ (<span style=\"color: #00d7ff; text-decoration-color: #00d7ff\">None</span>, <span style=\"color: #00af00; text-decoration-color: #00af00\">3</span>)              │            <span style=\"color: #00af00; text-decoration-color: #00af00\">99</span> │\n",
       "└─────────────────────────────────┴────────────────────────┴───────────────┘\n",
       "</pre>\n"
      ],
      "text/plain": [
       "┏━━━━━━━━━━━━━━━━━━━━━━━━━━━━━━━━━┳━━━━━━━━━━━━━━━━━━━━━━━━┳━━━━━━━━━━━━━━━┓\n",
       "┃\u001b[1m \u001b[0m\u001b[1mLayer (type)                   \u001b[0m\u001b[1m \u001b[0m┃\u001b[1m \u001b[0m\u001b[1mOutput Shape          \u001b[0m\u001b[1m \u001b[0m┃\u001b[1m \u001b[0m\u001b[1m      Param #\u001b[0m\u001b[1m \u001b[0m┃\n",
       "┡━━━━━━━━━━━━━━━━━━━━━━━━━━━━━━━━━╇━━━━━━━━━━━━━━━━━━━━━━━━╇━━━━━━━━━━━━━━━┩\n",
       "│ dense (\u001b[38;5;33mDense\u001b[0m)                   │ (\u001b[38;5;45mNone\u001b[0m, \u001b[38;5;34m64\u001b[0m)             │           \u001b[38;5;34m384\u001b[0m │\n",
       "├─────────────────────────────────┼────────────────────────┼───────────────┤\n",
       "│ dropout (\u001b[38;5;33mDropout\u001b[0m)               │ (\u001b[38;5;45mNone\u001b[0m, \u001b[38;5;34m64\u001b[0m)             │             \u001b[38;5;34m0\u001b[0m │\n",
       "├─────────────────────────────────┼────────────────────────┼───────────────┤\n",
       "│ dense_1 (\u001b[38;5;33mDense\u001b[0m)                 │ (\u001b[38;5;45mNone\u001b[0m, \u001b[38;5;34m32\u001b[0m)             │         \u001b[38;5;34m2,080\u001b[0m │\n",
       "├─────────────────────────────────┼────────────────────────┼───────────────┤\n",
       "│ dropout_1 (\u001b[38;5;33mDropout\u001b[0m)             │ (\u001b[38;5;45mNone\u001b[0m, \u001b[38;5;34m32\u001b[0m)             │             \u001b[38;5;34m0\u001b[0m │\n",
       "├─────────────────────────────────┼────────────────────────┼───────────────┤\n",
       "│ dense_2 (\u001b[38;5;33mDense\u001b[0m)                 │ (\u001b[38;5;45mNone\u001b[0m, \u001b[38;5;34m3\u001b[0m)              │            \u001b[38;5;34m99\u001b[0m │\n",
       "└─────────────────────────────────┴────────────────────────┴───────────────┘\n"
      ]
     },
     "metadata": {},
     "output_type": "display_data"
    },
    {
     "data": {
      "text/html": [
       "<pre style=\"white-space:pre;overflow-x:auto;line-height:normal;font-family:Menlo,'DejaVu Sans Mono',consolas,'Courier New',monospace\"><span style=\"font-weight: bold\"> Total params: </span><span style=\"color: #00af00; text-decoration-color: #00af00\">2,563</span> (10.01 KB)\n",
       "</pre>\n"
      ],
      "text/plain": [
       "\u001b[1m Total params: \u001b[0m\u001b[38;5;34m2,563\u001b[0m (10.01 KB)\n"
      ]
     },
     "metadata": {},
     "output_type": "display_data"
    },
    {
     "data": {
      "text/html": [
       "<pre style=\"white-space:pre;overflow-x:auto;line-height:normal;font-family:Menlo,'DejaVu Sans Mono',consolas,'Courier New',monospace\"><span style=\"font-weight: bold\"> Trainable params: </span><span style=\"color: #00af00; text-decoration-color: #00af00\">2,563</span> (10.01 KB)\n",
       "</pre>\n"
      ],
      "text/plain": [
       "\u001b[1m Trainable params: \u001b[0m\u001b[38;5;34m2,563\u001b[0m (10.01 KB)\n"
      ]
     },
     "metadata": {},
     "output_type": "display_data"
    },
    {
     "data": {
      "text/html": [
       "<pre style=\"white-space:pre;overflow-x:auto;line-height:normal;font-family:Menlo,'DejaVu Sans Mono',consolas,'Courier New',monospace\"><span style=\"font-weight: bold\"> Non-trainable params: </span><span style=\"color: #00af00; text-decoration-color: #00af00\">0</span> (0.00 B)\n",
       "</pre>\n"
      ],
      "text/plain": [
       "\u001b[1m Non-trainable params: \u001b[0m\u001b[38;5;34m0\u001b[0m (0.00 B)\n"
      ]
     },
     "metadata": {},
     "output_type": "display_data"
    }
   ],
   "source": [
    "model = Sequential([\n",
    "    Dense(64, activation='relu', input_shape=(X_train.shape[1],)),\n",
    "    Dropout(0.3),\n",
    "    Dense(32, activation='relu'),\n",
    "    Dropout(0.2),\n",
    "    Dense(3, activation='softmax')  # 3 classes\n",
    "])\n",
    "\n",
    "model.compile(optimizer='adam',loss='sparse_categorical_crossentropy',metrics=['accuracy'])\n",
    "\n",
    "model.summary()"
   ]
  },
  {
   "cell_type": "markdown",
   "id": "7f6d844a",
   "metadata": {},
   "source": [
    "### 7. Train the model"
   ]
  },
  {
   "cell_type": "code",
   "execution_count": 10,
   "id": "1519315e",
   "metadata": {},
   "outputs": [
    {
     "name": "stdout",
     "output_type": "stream",
     "text": [
      "Epoch 1/20\n",
      "\u001b[1m600/600\u001b[0m \u001b[32m━━━━━━━━━━━━━━━━━━━━\u001b[0m\u001b[37m\u001b[0m \u001b[1m6s\u001b[0m 6ms/step - accuracy: 0.4828 - loss: 0.9519 - val_accuracy: 0.5351 - val_loss: 0.8525\n",
      "Epoch 2/20\n",
      "\u001b[1m600/600\u001b[0m \u001b[32m━━━━━━━━━━━━━━━━━━━━\u001b[0m\u001b[37m\u001b[0m \u001b[1m5s\u001b[0m 5ms/step - accuracy: 0.5244 - loss: 0.8730 - val_accuracy: 0.5397 - val_loss: 0.8374\n",
      "Epoch 3/20\n",
      "\u001b[1m600/600\u001b[0m \u001b[32m━━━━━━━━━━━━━━━━━━━━\u001b[0m\u001b[37m\u001b[0m \u001b[1m3s\u001b[0m 5ms/step - accuracy: 0.5291 - loss: 0.8543 - val_accuracy: 0.5481 - val_loss: 0.8163\n",
      "Epoch 4/20\n",
      "\u001b[1m600/600\u001b[0m \u001b[32m━━━━━━━━━━━━━━━━━━━━\u001b[0m\u001b[37m\u001b[0m \u001b[1m3s\u001b[0m 5ms/step - accuracy: 0.5383 - loss: 0.8403 - val_accuracy: 0.5527 - val_loss: 0.8082\n",
      "Epoch 5/20\n",
      "\u001b[1m600/600\u001b[0m \u001b[32m━━━━━━━━━━━━━━━━━━━━\u001b[0m\u001b[37m\u001b[0m \u001b[1m3s\u001b[0m 5ms/step - accuracy: 0.5421 - loss: 0.8331 - val_accuracy: 0.5514 - val_loss: 0.8023\n",
      "Epoch 6/20\n",
      "\u001b[1m600/600\u001b[0m \u001b[32m━━━━━━━━━━━━━━━━━━━━\u001b[0m\u001b[37m\u001b[0m \u001b[1m3s\u001b[0m 4ms/step - accuracy: 0.5426 - loss: 0.8212 - val_accuracy: 0.5710 - val_loss: 0.7886\n",
      "Epoch 7/20\n",
      "\u001b[1m600/600\u001b[0m \u001b[32m━━━━━━━━━━━━━━━━━━━━\u001b[0m\u001b[37m\u001b[0m \u001b[1m3s\u001b[0m 5ms/step - accuracy: 0.5445 - loss: 0.8114 - val_accuracy: 0.5595 - val_loss: 0.7803\n",
      "Epoch 8/20\n",
      "\u001b[1m600/600\u001b[0m \u001b[32m━━━━━━━━━━━━━━━━━━━━\u001b[0m\u001b[37m\u001b[0m \u001b[1m3s\u001b[0m 5ms/step - accuracy: 0.5499 - loss: 0.8007 - val_accuracy: 0.5733 - val_loss: 0.7705\n",
      "Epoch 9/20\n",
      "\u001b[1m600/600\u001b[0m \u001b[32m━━━━━━━━━━━━━━━━━━━━\u001b[0m\u001b[37m\u001b[0m \u001b[1m3s\u001b[0m 5ms/step - accuracy: 0.5574 - loss: 0.7927 - val_accuracy: 0.5852 - val_loss: 0.7604\n",
      "Epoch 10/20\n",
      "\u001b[1m600/600\u001b[0m \u001b[32m━━━━━━━━━━━━━━━━━━━━\u001b[0m\u001b[37m\u001b[0m \u001b[1m3s\u001b[0m 5ms/step - accuracy: 0.5584 - loss: 0.7834 - val_accuracy: 0.5864 - val_loss: 0.7504\n",
      "Epoch 11/20\n",
      "\u001b[1m600/600\u001b[0m \u001b[32m━━━━━━━━━━━━━━━━━━━━\u001b[0m\u001b[37m\u001b[0m \u001b[1m3s\u001b[0m 5ms/step - accuracy: 0.5614 - loss: 0.7770 - val_accuracy: 0.5869 - val_loss: 0.7438\n",
      "Epoch 12/20\n",
      "\u001b[1m600/600\u001b[0m \u001b[32m━━━━━━━━━━━━━━━━━━━━\u001b[0m\u001b[37m\u001b[0m \u001b[1m3s\u001b[0m 5ms/step - accuracy: 0.5664 - loss: 0.7666 - val_accuracy: 0.5777 - val_loss: 0.7394\n",
      "Epoch 13/20\n",
      "\u001b[1m600/600\u001b[0m \u001b[32m━━━━━━━━━━━━━━━━━━━━\u001b[0m\u001b[37m\u001b[0m \u001b[1m3s\u001b[0m 5ms/step - accuracy: 0.5722 - loss: 0.7608 - val_accuracy: 0.5948 - val_loss: 0.7288\n",
      "Epoch 14/20\n",
      "\u001b[1m600/600\u001b[0m \u001b[32m━━━━━━━━━━━━━━━━━━━━\u001b[0m\u001b[37m\u001b[0m \u001b[1m3s\u001b[0m 5ms/step - accuracy: 0.5763 - loss: 0.7543 - val_accuracy: 0.6008 - val_loss: 0.7186\n",
      "Epoch 15/20\n",
      "\u001b[1m600/600\u001b[0m \u001b[32m━━━━━━━━━━━━━━━━━━━━\u001b[0m\u001b[37m\u001b[0m \u001b[1m3s\u001b[0m 5ms/step - accuracy: 0.5775 - loss: 0.7500 - val_accuracy: 0.5908 - val_loss: 0.7151\n",
      "Epoch 16/20\n",
      "\u001b[1m600/600\u001b[0m \u001b[32m━━━━━━━━━━━━━━━━━━━━\u001b[0m\u001b[37m\u001b[0m \u001b[1m3s\u001b[0m 5ms/step - accuracy: 0.5703 - loss: 0.7492 - val_accuracy: 0.6040 - val_loss: 0.7117\n",
      "Epoch 17/20\n",
      "\u001b[1m600/600\u001b[0m \u001b[32m━━━━━━━━━━━━━━━━━━━━\u001b[0m\u001b[37m\u001b[0m \u001b[1m3s\u001b[0m 5ms/step - accuracy: 0.5759 - loss: 0.7439 - val_accuracy: 0.6044 - val_loss: 0.7086\n",
      "Epoch 18/20\n",
      "\u001b[1m600/600\u001b[0m \u001b[32m━━━━━━━━━━━━━━━━━━━━\u001b[0m\u001b[37m\u001b[0m \u001b[1m3s\u001b[0m 5ms/step - accuracy: 0.5855 - loss: 0.7393 - val_accuracy: 0.5956 - val_loss: 0.7080\n",
      "Epoch 19/20\n",
      "\u001b[1m600/600\u001b[0m \u001b[32m━━━━━━━━━━━━━━━━━━━━\u001b[0m\u001b[37m\u001b[0m \u001b[1m3s\u001b[0m 5ms/step - accuracy: 0.5788 - loss: 0.7344 - val_accuracy: 0.6071 - val_loss: 0.7017\n",
      "Epoch 20/20\n",
      "\u001b[1m600/600\u001b[0m \u001b[32m━━━━━━━━━━━━━━━━━━━━\u001b[0m\u001b[37m\u001b[0m \u001b[1m3s\u001b[0m 5ms/step - accuracy: 0.5837 - loss: 0.7310 - val_accuracy: 0.6029 - val_loss: 0.6992\n"
     ]
    }
   ],
   "source": [
    "history = model.fit(\n",
    "    X_train, y_train,\n",
    "    validation_split=0.2,\n",
    "    epochs=20,\n",
    "    batch_size=32,\n",
    "    verbose=1\n",
    ")"
   ]
  },
  {
   "cell_type": "markdown",
   "id": "fd9b4d51",
   "metadata": {},
   "source": [
    "### 8. Plot training history"
   ]
  },
  {
   "cell_type": "code",
   "execution_count": 11,
   "id": "308c4de8",
   "metadata": {},
   "outputs": [
    {
     "data": {
      "image/png": "[encoded data removed]",
      "text/plain": [
       "<Figure size 640x480 with 1 Axes>"
      ]
     },
     "metadata": {},
     "output_type": "display_data"
    }
   ],
   "source": [
    "plt.plot(history.history['accuracy'], label='train_acc')\n",
    "plt.plot(history.history['val_accuracy'], label='val_acc')\n",
    "plt.title(\"Training vs Validation Accuracy\")\n",
    "plt.xlabel(\"Epochs\")\n",
    "plt.ylabel(\"Accuracy\")\n",
    "plt.legend()\n",
    "plt.show()"
   ]
  },
  {
   "cell_type": "markdown",
   "id": "34387d44",
   "metadata": {},
   "source": [
    "### 9. Evaluate on test set"
   ]
  },
  {
   "cell_type": "code",
   "execution_count": 12,
   "id": "783d029a",
   "metadata": {},
   "outputs": [
    {
     "name": "stdout",
     "output_type": "stream",
     "text": [
      "\n",
      "Test Accuracy: 59.74%\n"
     ]
    }
   ],
   "source": [
    "test_loss, test_acc = model.evaluate(X_test, y_test, verbose=0)\n",
    "print(f\"\\nTest Accuracy: {test_acc*100:.2f}%\")"
   ]
  },
  {
   "cell_type": "markdown",
   "id": "ca2de1ee",
   "metadata": {},
   "source": [
    "### 10. Confusion Matrix & Report"
   ]
  },
  {
   "cell_type": "code",
   "execution_count": 13,
   "id": "d5bc143a",
   "metadata": {},
   "outputs": [
    {
     "name": "stdout",
     "output_type": "stream",
     "text": [
      "\u001b[1m188/188\u001b[0m \u001b[32m━━━━━━━━━━━━━━━━━━━━\u001b[0m\u001b[37m\u001b[0m \u001b[1m1s\u001b[0m 3ms/step\n"
     ]
    },
    {
     "data": {
      "image/png": "[encoded data removed]",
      "text/plain": [
       "<Figure size 640x480 with 2 Axes>"
      ]
     },
     "metadata": {},
     "output_type": "display_data"
    },
    {
     "name": "stdout",
     "output_type": "stream",
     "text": [
      "\n",
      "Classification Report:\n",
      "              precision    recall  f1-score   support\n",
      "\n",
      "    No Fault       0.49      0.89      0.64      1945\n",
      "     Bitflip       0.57      0.14      0.22      2064\n",
      "Opcode Fault       0.79      0.78      0.79      1984\n",
      "\n",
      "    accuracy                           0.60      5993\n",
      "   macro avg       0.62      0.61      0.55      5993\n",
      "weighted avg       0.62      0.60      0.54      5993\n",
      "\n"
     ]
    }
   ],
   "source": [
    "y_pred = np.argmax(model.predict(X_test), axis=1)\n",
    "\n",
    "cm = confusion_matrix(y_test, y_pred)\n",
    "sns.heatmap(cm, annot=True, fmt=\"d\", cmap=\"Blues\",\n",
    "            xticklabels=[\"No Fault\", \"Bitflip\", \"Opcode Fault\"],\n",
    "            yticklabels=[\"No Fault\", \"Bitflip\", \"Opcode Fault\"])\n",
    "plt.xlabel(\"Predicted\")\n",
    "plt.ylabel(\"Actual\")\n",
    "plt.title(\"Confusion Matrix\")\n",
    "plt.show()\n",
    "\n",
    "print(\"\\nClassification Report:\")\n",
    "print(classification_report(y_test, y_pred, target_names=[\"No Fault\", \"Bitflip\", \"Opcode Fault\"]))"
   ]
  }
 ],
 "metadata": {
  "kernelspec": {
   "display_name": "venv",
   "language": "python",
   "name": "python3"
  },
  "language_info": {
   "codemirror_mode": {
    "name": "ipython",
    "version": 3
   },
   "file_extension": ".py",
   "mimetype": "text/x-python",
   "name": "python",
   "nbconvert_exporter": "python",
   "pygments_lexer": "ipython3",
   "version": "3.12.10"
  }
 },
 "nbformat": 4,
 "nbformat_minor": 5
}
